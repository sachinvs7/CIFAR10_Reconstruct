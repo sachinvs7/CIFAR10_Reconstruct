{
  "nbformat": 4,
  "nbformat_minor": 0,
  "metadata": {
    "colab": {
      "name": "Autoencoder_Reconstruct.ipynb",
      "provenance": [],
      "collapsed_sections": []
    },
    "kernelspec": {
      "name": "python3",
      "display_name": "Python 3"
    }
  },
  "cells": [
    {
      "cell_type": "code",
      "metadata": {
        "id": "RI0Noc03WEax",
        "colab_type": "code",
        "colab": {}
      },
      "source": [
        "import numpy as np\n",
        "import tensorflow as tf\n",
        "import pickle\n",
        "def unpickle(file):\n",
        "    import pickle\n",
        "    with open(file, 'rb') as fo:\n",
        "        dict = pickle.load(fo, encoding='latin1')\n",
        "    return dict"
      ],
      "execution_count": 0,
      "outputs": []
    },
    {
      "cell_type": "code",
      "metadata": {
        "id": "67brjvtVWlYg",
        "colab_type": "code",
        "colab": {}
      },
      "source": [
        "#Converting to B&W for simplicity\n",
        "def grayscale(im):\n",
        "    return im.reshape(im.shape[0], 3, 32, 32).mean(1).reshape(im.shape[0], -1)"
      ],
      "execution_count": 0,
      "outputs": []
    },
    {
      "cell_type": "code",
      "metadata": {
        "id": "xoHxfCktW5R_",
        "colab_type": "code",
        "outputId": "c2305fbd-0b89-4782-f80e-6498ac45627b",
        "colab": {
          "base_uri": "https://localhost:8080/",
          "height": 54
        }
      },
      "source": [
        "#Load the data into memory; appending batches\n",
        "data, labels = [], []\n",
        "\n",
        "for i in range(1, 6):\n",
        "    filename = 'data_batch_' + str(i)\n",
        "    open_data = unpickle(filename)\n",
        "    if len(data) > 0:\n",
        "        data = np.vstack((data, open_data['data']))\n",
        "        labels = np.hstack((labels, open_data['labels']))\n",
        "    else:\n",
        "        data = open_data['data']\n",
        "        labels = open_data['labels']\n",
        "\n",
        "data = grayscale(data)\n",
        "x = np.matrix(data)\n",
        "y = np.array(labels)\n",
        "print(x.shape)\n",
        "(50000, 1024)\n"
      ],
      "execution_count": 9,
      "outputs": [
        {
          "output_type": "stream",
          "text": [
            "(50000, 1024)\n"
          ],
          "name": "stdout"
        },
        {
          "output_type": "execute_result",
          "data": {
            "text/plain": [
              "(50000, 1024)"
            ]
          },
          "metadata": {
            "tags": []
          },
          "execution_count": 9
        }
      ]
    },
    {
      "cell_type": "code",
      "metadata": {
        "id": "xjGDdOfVg01J",
        "colab_type": "code",
        "outputId": "31d1d541-eedf-49d0-82d9-f421cf560af6",
        "colab": {
          "base_uri": "https://localhost:8080/",
          "height": 54
        }
      },
      "source": [
        "#Training only on horse images:\n",
        "horse_i = np.where(y == 7)[0]\n",
        "horse_x = x[horse_i]\n",
        "print(np.shape(horse_x)) \n",
        "(5000, 1024)"
      ],
      "execution_count": 10,
      "outputs": [
        {
          "output_type": "stream",
          "text": [
            "(5000, 1024)\n"
          ],
          "name": "stdout"
        },
        {
          "output_type": "execute_result",
          "data": {
            "text/plain": [
              "(5000, 1024)"
            ]
          },
          "metadata": {
            "tags": []
          },
          "execution_count": 10
        }
      ]
    },
    {
      "cell_type": "code",
      "metadata": {
        "id": "MqHDJgxsg5k3",
        "colab_type": "code",
        "colab": {}
      },
      "source": [
        "%matplotlib inline\n",
        "import matplotlib\n",
        "import matplotlib.pyplot as plt\n",
        "def plot_image(image, shape=[32, 32], cmap = \"Greys_r\"):\n",
        "    plt.imshow(image.reshape(shape), cmap=cmap,interpolation=\"nearest\")\n",
        "    plt.axis(\"off\")   "
      ],
      "execution_count": 0,
      "outputs": []
    },
    {
      "cell_type": "code",
      "metadata": {
        "id": "aPPXWH05g--q",
        "colab_type": "code",
        "outputId": "8c5f870a-ca9c-4f64-8938-48c18ea1b3c6",
        "colab": {
          "base_uri": "https://localhost:8080/",
          "height": 248
        }
      },
      "source": [
        "plot_image(horse_x[1], shape=[32, 32], cmap = \"Greys_r\")\t\t\n"
      ],
      "execution_count": 12,
      "outputs": [
        {
          "output_type": "display_data",
          "data": {
            "image/png": "[encoded data removed]",
            "text/plain": [
              "<Figure size 432x288 with 1 Axes>"
            ]
          },
          "metadata": {
            "tags": []
          }
        }
      ]
    },
    {
      "cell_type": "code",
      "metadata": {
        "id": "MqhxFWFhiAJX",
        "colab_type": "code",
        "outputId": "2bb5afd0-9945-40d5-aae4-1480252fb865",
        "colab": {
          "base_uri": "https://localhost:8080/",
          "height": 360
        }
      },
      "source": [
        "#Parameters\n",
        "n_inputs = 32 * 32\n",
        "BATCH_SIZE = 1\n",
        "batch_size = tf.placeholder(tf.int64)\n",
        "\n",
        "#Placeholder\n",
        "x = tf.placeholder(tf.float32, shape=[None,n_inputs])\n",
        "#Dataset\n",
        "dataset = tf.data.Dataset.from_tensor_slices(x).repeat().batch(batch_size)\n",
        "iter = dataset.make_initializable_iterator() # create the iterator\n",
        "features = iter.get_next()\n",
        "\n",
        "#Print the image\n",
        "with tf.Session() as sess:\n",
        "    #Feed the placeholder with data\n",
        "    sess.run(iter.initializer, feed_dict={x: horse_x,\n",
        "                                         batch_size: BATCH_SIZE}) \n",
        "    print(sess.run(features).shape) \n",
        "    plot_image(sess.run(features), shape=[32, 32], cmap = \"Greys_r\")\n",
        "(1, 1024)"
      ],
      "execution_count": 13,
      "outputs": [
        {
          "output_type": "stream",
          "text": [
            "WARNING:tensorflow:From <ipython-input-13-aa4c9822f8e3>:9: DatasetV1.make_initializable_iterator (from tensorflow.python.data.ops.dataset_ops) is deprecated and will be removed in a future version.\n",
            "Instructions for updating:\n",
            "Use `for ... in dataset:` to iterate over a dataset. If using `tf.estimator`, return the `Dataset` object directly from your input function. As a last resort, you can use `tf.compat.v1.data.make_initializable_iterator(dataset)`.\n",
            "(1, 1024)\n"
          ],
          "name": "stdout"
        },
        {
          "output_type": "execute_result",
          "data": {
            "text/plain": [
              "(1, 1024)"
            ]
          },
          "metadata": {
            "tags": []
          },
          "execution_count": 13
        },
        {
          "output_type": "display_data",
          "data": {
            "image/png": "[encoded data removed]",
            "text/plain": [
              "<Figure size 432x288 with 1 Axes>"
            ]
          },
          "metadata": {
            "tags": []
          }
        }
      ]
    },
    {
      "cell_type": "code",
      "metadata": {
        "id": "7bU2GdDUiCnx",
        "colab_type": "code",
        "colab": {}
      },
      "source": [
        "#Building the network, defining values for the autoencoder\n",
        "from functools import partial\n",
        "\n",
        "#Encoder\n",
        "n_hidden_1 = 300\n",
        "n_hidden_2 = 150  # codings\n",
        "\n",
        "#Decoder\n",
        "n_hidden_3 = n_hidden_1\n",
        "n_outputs = n_inputs\n",
        "\n",
        "learning_rate = 0.01\n",
        "l2_reg = 0.0001"
      ],
      "execution_count": 0,
      "outputs": []
    },
    {
      "cell_type": "code",
      "metadata": {
        "id": "hs_R-3vLiGJA",
        "colab_type": "code",
        "outputId": "816d4cbc-ec4a-4b09-d62f-2b23c61146ee",
        "colab": {
          "base_uri": "https://localhost:8080/",
          "height": 164
        }
      },
      "source": [
        "#Define the Xavier initialization\n",
        "xav_init =  tf.contrib.layers.xavier_initializer()\n",
        "#Define the L2 regularizer\n",
        "l2_regularizer = tf.contrib.layers.l2_regularizer(l2_reg)"
      ],
      "execution_count": 15,
      "outputs": [
        {
          "output_type": "stream",
          "text": [
            "WARNING:tensorflow:\n",
            "The TensorFlow contrib module will not be included in TensorFlow 2.0.\n",
            "For more information, please see:\n",
            "  * https://github.com/tensorflow/community/blob/master/rfcs/20180907-contrib-sunset.md\n",
            "  * https://github.com/tensorflow/addons\n",
            "  * https://github.com/tensorflow/io (for I/O related ops)\n",
            "If you depend on functionality not listed there, please file an issue.\n",
            "\n"
          ],
          "name": "stdout"
        }
      ]
    },
    {
      "cell_type": "code",
      "metadata": {
        "id": "QVTp016jiLKR",
        "colab_type": "code",
        "colab": {}
      },
      "source": [
        "#Create the dense layer\n",
        "dense_layer = partial(tf.layers.dense,\n",
        "                         activation=tf.nn.elu,\n",
        "                         kernel_initializer=xav_init,\n",
        "                         kernel_regularizer=l2_regularizer)"
      ],
      "execution_count": 0,
      "outputs": []
    },
    {
      "cell_type": "code",
      "metadata": {
        "id": "Vl-yWXqXiQ54",
        "colab_type": "code",
        "outputId": "4c0e606b-c3f9-4553-9e2a-81fd81672d24",
        "colab": {
          "base_uri": "https://localhost:8080/",
          "height": 147
        }
      },
      "source": [
        "#Mat mul for architecture\n",
        "hidden_1 = dense_layer(features, n_hidden_1)\n",
        "hidden_2 = dense_layer(hidden_1, n_hidden_2)\n",
        "hidden_3 = dense_layer(hidden_2, n_hidden_3)\n",
        "outputs = dense_layer(hidden_3, n_outputs, activation=None)"
      ],
      "execution_count": 17,
      "outputs": [
        {
          "output_type": "stream",
          "text": [
            "WARNING:tensorflow:From <ipython-input-17-6f5852ed101b>:1: dense (from tensorflow.python.layers.core) is deprecated and will be removed in a future version.\n",
            "Instructions for updating:\n",
            "Use keras.layers.Dense instead.\n",
            "WARNING:tensorflow:From /usr/local/lib/python3.6/dist-packages/tensorflow_core/python/layers/core.py:187: Layer.apply (from tensorflow.python.keras.engine.base_layer) is deprecated and will be removed in a future version.\n",
            "Instructions for updating:\n",
            "Please use `layer.__call__` method instead.\n"
          ],
          "name": "stdout"
        }
      ]
    },
    {
      "cell_type": "code",
      "metadata": {
        "id": "HZPyHIHSiRJH",
        "colab_type": "code",
        "colab": {}
      },
      "source": [
        "loss = tf.reduce_mean(tf.square(outputs - features))\t\t\n"
      ],
      "execution_count": 0,
      "outputs": []
    },
    {
      "cell_type": "code",
      "metadata": {
        "id": "Tw_56o1liRTA",
        "colab_type": "code",
        "colab": {}
      },
      "source": [
        "#Optimize\n",
        "loss = tf.reduce_mean(tf.square(outputs - features))\n",
        "optimizer = tf.train.AdamOptimizer(learning_rate)\n",
        "train  = optimizer.minimize(loss)"
      ],
      "execution_count": 0,
      "outputs": []
    },
    {
      "cell_type": "code",
      "metadata": {
        "id": "MtinoQVxiRZn",
        "colab_type": "code",
        "outputId": "fb8d6660-b5e5-4618-d956-8e8eeec12f5b",
        "colab": {
          "base_uri": "https://localhost:8080/",
          "height": 35
        }
      },
      "source": [
        "BATCH_SIZE = 150\n",
        "#Number of batches :  length dataset / batch size\n",
        "n_batches = horse_x.shape[0] // BATCH_SIZE\n",
        "print(n_batches)"
      ],
      "execution_count": 20,
      "outputs": [
        {
          "output_type": "stream",
          "text": [
            "33\n"
          ],
          "name": "stdout"
        }
      ]
    },
    {
      "cell_type": "code",
      "metadata": {
        "id": "BtfOR7jQiuZy",
        "colab_type": "code",
        "outputId": "a5cca01e-d01d-45c0-ece4-0465ec61f1d3",
        "colab": {
          "base_uri": "https://localhost:8080/",
          "height": 256
        }
      },
      "source": [
        "#Set params\n",
        "n_epochs = 100\n",
        "\n",
        "#Call Saver to save the model and re-use it later during evaluation\n",
        "saver = tf.train.Saver()\n",
        "\n",
        "with tf.Session() as sess:\n",
        "    sess.run(tf.global_variables_initializer())\n",
        "    sess.run(iter.initializer, feed_dict={x: horse_x,\n",
        "                                          batch_size: BATCH_SIZE})\n",
        "    print('Training...')\n",
        "    print(sess.run(features).shape) \n",
        "    for epoch in range(n_epochs):       \n",
        "        for iteration in range(n_batches):\n",
        "            sess.run(train)\n",
        "        if epoch % 10 == 0:\n",
        "            loss_train = loss.eval()   \n",
        "            print(\"\\r{}\".format(epoch), \"Train MSE:\", loss_train) \n",
        "        \n",
        "    save_path = saver.save(sess, \"./model.ckpt\")    \n",
        "    print(\"Model saved in path: %s\" % save_path) "
      ],
      "execution_count": 21,
      "outputs": [
        {
          "output_type": "stream",
          "text": [
            "Training...\n",
            "(150, 1024)\n",
            "0 Train MSE: 2914.9976\n",
            "10 Train MSE: 1996.7887\n",
            "20 Train MSE: 1706.9929\n",
            "30 Train MSE: 1399.2848\n",
            "40 Train MSE: 1389.9092\n",
            "50 Train MSE: 1361.2592\n",
            "60 Train MSE: 1471.6577\n",
            "70 Train MSE: 1327.4583\n",
            "80 Train MSE: 1366.3075\n",
            "90 Train MSE: 1336.98\n",
            "Model saved in path: ./model.ckpt\n"
          ],
          "name": "stdout"
        }
      ]
    },
    {
      "cell_type": "code",
      "metadata": {
        "id": "iPpR_98LjA6Y",
        "colab_type": "code",
        "colab": {}
      },
      "source": [
        "test_data = unpickle('test_batch')\n",
        "test_x = grayscale(test_data['data'])\n",
        "#test_labels = np.array(test_data['labels'])"
      ],
      "execution_count": 0,
      "outputs": []
    },
    {
      "cell_type": "code",
      "metadata": {
        "id": "D7PUrXJ5jJxh",
        "colab_type": "code",
        "outputId": "594cac39-1ce4-40c0-d24e-5e6e42253c1c",
        "colab": {
          "base_uri": "https://localhost:8080/",
          "height": 248
        }
      },
      "source": [
        "plot_image(test_x[13], shape=[32, 32], cmap = \"Greys_r\")\t\t\n"
      ],
      "execution_count": 23,
      "outputs": [
        {
          "output_type": "display_data",
          "data": {
            "image/png": "[encoded data removed]",
            "text/plain": [
              "<Figure size 432x288 with 1 Axes>"
            ]
          },
          "metadata": {
            "tags": []
          }
        }
      ]
    },
    {
      "cell_type": "code",
      "metadata": {
        "id": "tr6aT3y1jLaQ",
        "colab_type": "code",
        "colab": {}
      },
      "source": [
        "def reconstruct_image(df, image_number = 1):\n",
        "    #Part 1 - Reshape the image to the correct dimension i.e 1, 1024\n",
        "    x_test = df[image_number]\n",
        "    x_test_1 = x_test.reshape((1, 32*32))\n",
        "    \n",
        "    #Part 2 - Feed the model with the unseen image, encode/decode the image\n",
        "    with tf.Session() as sess:     \n",
        "        sess.run(tf.global_variables_initializer()) \n",
        "        sess.run(iter.initializer, feed_dict={x: x_test_1,\n",
        "                                      batch_size: 1})\n",
        "    #Part 3 - Print the real and reconstructed image\n",
        "      #Restore variables \n",
        "        saver.restore(sess, \"./model.ckpt\")  \n",
        "        print(\"Model restored.\")\n",
        "      #Reconstruct image\n",
        "        outputs_val = outputs.eval()\n",
        "        print(outputs_val.shape)\n",
        "        fig = plt.figure()\n",
        "      #Plot real\n",
        "        ax1 = fig.add_subplot(121)\n",
        "        plot_image(x_test_1, shape=[32, 32], cmap = \"Greys_r\")\n",
        "      #Plot estimated\n",
        "        ax2 = fig.add_subplot(122)\n",
        "        plot_image(outputs_val, shape=[32, 32], cmap = \"Greys_r\")\n",
        "        plt.tight_layout()\n",
        "        fig = plt.gcf()"
      ],
      "execution_count": 0,
      "outputs": []
    },
    {
      "cell_type": "code",
      "metadata": {
        "id": "ENfbWDwvjREZ",
        "colab_type": "code",
        "outputId": "d264b61f-3f7e-4839-b46b-16cf83d08111",
        "colab": {
          "base_uri": "https://localhost:8080/",
          "height": 286
        }
      },
      "source": [
        "reconstruct_image(df =test_x, image_number = 13)\t\t\n"
      ],
      "execution_count": 25,
      "outputs": [
        {
          "output_type": "stream",
          "text": [
            "INFO:tensorflow:Restoring parameters from ./model.ckpt\n",
            "Model restored.\n",
            "(1, 1024)\n"
          ],
          "name": "stdout"
        },
        {
          "output_type": "display_data",
          "data": {
            "image/png": "[encoded data removed]",
            "text/plain": [
              "<Figure size 432x288 with 2 Axes>"
            ]
          },
          "metadata": {
            "tags": []
          }
        }
      ]
    }
  ]
}